{
 "cells": [
  {
   "cell_type": "markdown",
   "metadata": {},
   "source": [
    "# Introducción a Python - UC3M - Ejercicio 1\n"
   ]
  },
  {
   "cell_type": "code",
   "execution_count": 54,
   "metadata": {},
   "outputs": [],
   "source": [
    "import matplotlib as plt\n",
    "import numpy as np"
   ]
  },
  {
   "cell_type": "markdown",
   "metadata": {},
   "source": [
    "## 1 Fibonacci\n",
    "### 1.1a. Cálculo de la serie de Fibonacci con numpy"
   ]
  },
  {
   "cell_type": "code",
   "execution_count": 55,
   "metadata": {},
   "outputs": [],
   "source": [
    "k1=3 #Termino k-esimo a calcular\n",
    "A=np.array([[1,1],[1,0]])\n",
    "k=k1-1\n",
    "F=[1,0]"
   ]
  },
  {
   "cell_type": "code",
   "execution_count": 56,
   "metadata": {},
   "outputs": [
    {
     "name": "stdout",
     "output_type": "stream",
     "text": [
      "Término  3 -ésimo:  2\n"
     ]
    }
   ],
   "source": [
    "for i in np.arange(k):\n",
    "    if i==0:\n",
    "        Ak=A\n",
    "    else:\n",
    "        Ak=np.dot(A,Ak)\n",
    "v=np.dot(Ak,F)\n",
    "print('Término ', k1, '-ésimo: ',v[0])"
   ]
  },
  {
   "cell_type": "code",
   "execution_count": 57,
   "metadata": {},
   "outputs": [
    {
     "name": "stdout",
     "output_type": "stream",
     "text": [
      "Término  3 -ésimo:  2\n"
     ]
    }
   ],
   "source": [
    "Ak=A\n",
    "for i in np.arange(1,k):\n",
    "    Ak=np.dot(A,Ak)\n",
    "v=np.dot(Ak,F)\n",
    "print('Término ', k1, '-ésimo: ',v[0])"
   ]
  },
  {
   "cell_type": "markdown",
   "metadata": {},
   "source": [
    "### 1.1b. Cálculo utilizando numpy.linalg"
   ]
  },
  {
   "cell_type": "code",
   "execution_count": 62,
   "metadata": {},
   "outputs": [
    {
     "name": "stdout",
     "output_type": "stream",
     "text": [
      "Término  3 -ésimo:  2\n"
     ]
    }
   ],
   "source": [
    "from numpy.linalg import matrix_power\n",
    "Ak=matrix_power(A,k)\n",
    "v=np.dot(Ak,F)\n",
    "print('Término ', k1, '-ésimo: ',v[0])"
   ]
  },
  {
   "cell_type": "markdown",
   "metadata": {},
   "source": [
    "### 1.2 Diagonalización de la matriz A\n"
   ]
  },
  {
   "cell_type": "code",
   "execution_count": 63,
   "metadata": {},
   "outputs": [],
   "source": [
    "from numpy.linalg import eig\n",
    "from numpy.linalg import inv\n",
    "from numpy.linalg import multi_dot"
   ]
  },
  {
   "cell_type": "code",
   "execution_count": 64,
   "metadata": {},
   "outputs": [
    {
     "data": {
      "text/plain": [
       "array([[ 1.61803399, -0.        ],\n",
       "       [ 0.        , -0.61803399]])"
      ]
     },
     "execution_count": 64,
     "metadata": {},
     "output_type": "execute_result"
    }
   ],
   "source": [
    "A=np.array([[1,1],[1,0]])\n",
    "autovalores=eig(A)[0]\n",
    "D=np.eye(2,2)*autovalores\n",
    "D"
   ]
  },
  {
   "cell_type": "code",
   "execution_count": 65,
   "metadata": {},
   "outputs": [
    {
     "data": {
      "text/plain": [
       "array([[ 0.85065081, -0.52573111],\n",
       "       [ 0.52573111,  0.85065081]])"
      ]
     },
     "execution_count": 65,
     "metadata": {},
     "output_type": "execute_result"
    }
   ],
   "source": [
    "P=eig(A)[1]\n",
    "P"
   ]
  },
  {
   "cell_type": "code",
   "execution_count": 66,
   "metadata": {},
   "outputs": [],
   "source": [
    "Pinv=inv(P)"
   ]
  },
  {
   "cell_type": "code",
   "execution_count": 67,
   "metadata": {},
   "outputs": [
    {
     "data": {
      "text/plain": [
       "array([[ 1.00000000e+00,  1.00000000e+00],\n",
       "       [ 1.00000000e+00, -1.21244049e-16]])"
      ]
     },
     "execution_count": 67,
     "metadata": {},
     "output_type": "execute_result"
    }
   ],
   "source": [
    "multi_dot([P,D,Pinv])"
   ]
  },
  {
   "cell_type": "markdown",
   "metadata": {},
   "source": [
    "### 1.3 Ak como cálculo directo"
   ]
  },
  {
   "cell_type": "code",
   "execution_count": 69,
   "metadata": {},
   "outputs": [],
   "source": [
    "def funAk(k):\n",
    "    A=np.array([[1,1],[1,0]])\n",
    "    autovalores=eig(A)[0]\n",
    "    D=np.eye(2,2)*autovalores\n",
    "    P=eig(A)[1]\n",
    "    Pinv=inv(P)\n",
    "    Dk=D**k\n",
    "    Ak=multi_dot([P,Dk,Pinv])\n",
    "    return Ak"
   ]
  },
  {
   "cell_type": "code",
   "execution_count": 70,
   "metadata": {},
   "outputs": [
    {
     "name": "stdout",
     "output_type": "stream",
     "text": [
      "Término  2 -ésimo:  1.0\n",
      "Término  3 -ésimo:  2.0\n",
      "Término  4 -ésimo:  3.0\n",
      "Término  5 -ésimo:  5.0\n",
      "Término  6 -ésimo:  8.000000000000002\n",
      "Término  7 -ésimo:  13.000000000000004\n",
      "Término  8 -ésimo:  21.000000000000004\n",
      "Término  9 -ésimo:  34.000000000000014\n",
      "Término  10 -ésimo:  55.00000000000003\n",
      "Término  11 -ésimo:  89.00000000000003\n",
      "Término  12 -ésimo:  144.00000000000003\n",
      "Término  13 -ésimo:  233.0000000000001\n",
      "Término  14 -ésimo:  377.00000000000017\n",
      "Término  15 -ésimo:  610.0000000000002\n"
     ]
    }
   ],
   "source": [
    "for i in range(1,15):\n",
    "    Ak=funAk(i)\n",
    "    F=np.array([1,0])\n",
    "    v=np.dot(Ak,F)\n",
    "    print('Término ', i+1, '-ésimo: ',v[0])"
   ]
  },
  {
   "cell_type": "code",
   "execution_count": 71,
   "metadata": {},
   "outputs": [
    {
     "name": "stdout",
     "output_type": "stream",
     "text": [
      "Término  14 -ésimo:  377.00000000000017\n"
     ]
    }
   ],
   "source": [
    "k1=14 #Termino k-esimo a clacular\n",
    "k=k1-1\n",
    "Ak=funAk(k)\n",
    "F=np.array([1,0])\n",
    "v=np.dot(Ak,F)\n",
    "print('Término ', k1, '-ésimo: ',v[0])"
   ]
  },
  {
   "cell_type": "markdown",
   "metadata": {},
   "source": [
    "## 2. Polinomios de Bernstein\n",
    "### 2.1 Dibujar polinomios"
   ]
  },
  {
   "cell_type": "code",
   "execution_count": 72,
   "metadata": {},
   "outputs": [],
   "source": [
    "%matplotlib inline \n",
    "import matplotlib.pyplot as plt\n",
    "import numpy as np\n"
   ]
  },
  {
   "cell_type": "code",
   "execution_count": 73,
   "metadata": {},
   "outputs": [],
   "source": [
    "x=np.arange(0,1,0.1)"
   ]
  },
  {
   "cell_type": "code",
   "execution_count": 74,
   "metadata": {},
   "outputs": [
    {
     "data": {
      "text/plain": [
       "<matplotlib.legend.Legend at 0x7fb0ad1af358>"
      ]
     },
     "execution_count": 74,
     "metadata": {},
     "output_type": "execute_result"
    },
    {
     "data": {
      "image/png": "[encoded data removed]",
      "text/plain": [
       "<Figure size 432x288 with 1 Axes>"
      ]
     },
     "metadata": {
      "needs_background": "light"
     },
     "output_type": "display_data"
    }
   ],
   "source": [
    "y0=np.array(list(map(lambda x:(1-x)**4,x)))\n",
    "y1=np.array(list(map(lambda x:4*x*(1-x)**3,x)))\n",
    "y2=np.array(list(map(lambda x:6*x**2*(1-x)**2,x)))\n",
    "y3=np.array(list(map(lambda x:4*x**3*(1-x),x)))\n",
    "y4=np.array(list(map(lambda x:x**4,x)))\n",
    "\n",
    "yy=[y0,y1,y2,y3,y4]\n",
    "\n",
    "\n",
    "\n",
    "for i in range(5):\n",
    "    plt.plot(x,yy[i], label='$B^4_'+str(i)+'$')\n",
    "plt.legend(loc='upper center')\n"
   ]
  },
  {
   "cell_type": "markdown",
   "metadata": {},
   "source": [
    "### 2.2 Matriz PSB\n",
    "Base Bernstein [ $B^4_0$, $B^4_1$, $B^4_2$, $B^4_3$, $B^4_4$ ] "
   ]
  },
  {
   "cell_type": "code",
   "execution_count": 75,
   "metadata": {},
   "outputs": [],
   "source": [
    "b0=[1,-4,6,-4,1]\n",
    "b1=[0,4,-12,12,-4]\n",
    "b2=[0,0,6,-12,6]\n",
    "b3=[0,0,0,4,-4]\n",
    "b4=[0,0,0,0,1]\n"
   ]
  },
  {
   "cell_type": "code",
   "execution_count": 76,
   "metadata": {},
   "outputs": [],
   "source": [
    "def funPol(coef):\n",
    "    '''\n",
    "    Función para representar los polinomios como fórmula\n",
    "    Input: Lista con 5 coeficientes\n",
    "    '''\n",
    "    import functools \n",
    "    x=['','x','x^2','x^3','x^4']\n",
    "    polList=list(map(lambda a,x:str(a)+x if a<0 else '+'+str(a)+x ,coef,x))\n",
    "    pol=functools.reduce(lambda a,b:a+b,polList)\n",
    "    return pol"
   ]
  },
  {
   "cell_type": "code",
   "execution_count": 81,
   "metadata": {},
   "outputs": [
    {
     "name": "stdout",
     "output_type": "stream",
     "text": [
      "[1, -4, 6, -4, 1] corresponde a  +1-4x+6x^2-4x^3+1x^4\n",
      "[0, 4, -12, 12, -4] corresponde a  +0+4x-12x^2+12x^3-4x^4\n",
      "[0, 0, 6, -12, 6] corresponde a  +0+0x+6x^2-12x^3+6x^4\n",
      "[0, 0, 0, 4, -4] corresponde a  +0+0x+0x^2+4x^3-4x^4\n",
      "[0, 0, 0, 0, 1] corresponde a  +0+0x+0x^2+0x^3+1x^4\n"
     ]
    }
   ],
   "source": [
    "print(b0, 'corresponde a ',funPol(b0))\n",
    "print(b1, 'corresponde a ',funPol(b1))\n",
    "print(b2, 'corresponde a ',funPol(b2))\n",
    "print(b3, 'corresponde a ',funPol(b3))\n",
    "print(b4, 'corresponde a ',funPol(b4))"
   ]
  },
  {
   "cell_type": "code",
   "execution_count": 93,
   "metadata": {},
   "outputs": [
    {
     "name": "stdout",
     "output_type": "stream",
     "text": [
      "La matriz PSB es: \n",
      "[[  1   0   0   0   0]\n",
      " [ -4   4   0   0   0]\n",
      " [  6 -12   6   0   0]\n",
      " [ -4  12 -12   4   0]\n",
      " [  1  -4   6  -4   1]]\n"
     ]
    }
   ],
   "source": [
    "\n",
    "PSB=np.array([b0,b1,b2,b3,b4])\n",
    "PSB=np.transpose(PSB)\n",
    "print('La matriz PSB es: ')\n",
    "print(PSB)"
   ]
  },
  {
   "cell_type": "markdown",
   "metadata": {},
   "source": [
    "### 2.3 Cambio de base del polinomio\n"
   ]
  },
  {
   "cell_type": "code",
   "execution_count": 79,
   "metadata": {},
   "outputs": [
    {
     "name": "stdout",
     "output_type": "stream",
     "text": [
      "Cambio de base del polinomio:\n",
      "+4-12x+6x^2-8x^3+3x^4\n",
      "a base de Bernstein:[B40,B41,B42,B43,B44]\n",
      "[ 4.  1. -1. -4. -7.]\n"
     ]
    }
   ],
   "source": [
    "PS=[4,-12,6,-8,3]\n",
    "\n",
    "print('Cambio de base del polinomio:')\n",
    "print(funPol(PS))\n",
    "PS=np.array(PS)\n",
    "QBS=np.linalg.inv(PSB)\n",
    "PB=np.dot(QBS,PS)\n",
    "print('a base de Bernstein [B40,B41,B42,B43,B44]:')\n",
    "print(PB)"
   ]
  }
 ],
 "metadata": {
  "kernelspec": {
   "display_name": "Python 3",
   "language": "python",
   "name": "python3"
  },
  "language_info": {
   "codemirror_mode": {
    "name": "ipython",
    "version": 3
   },
   "file_extension": ".py",
   "mimetype": "text/x-python",
   "name": "python",
   "nbconvert_exporter": "python",
   "pygments_lexer": "ipython3",
   "version": "3.6.8"
  }
 },
 "nbformat": 4,
 "nbformat_minor": 2
}
